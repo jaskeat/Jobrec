{
 "cells": [
  {
   "cell_type": "code",
   "execution_count": 5,
   "metadata": {},
   "outputs": [
    {
     "name": "stdout",
     "output_type": "stream",
     "text": [
      " * Debug mode: on\n",
      "\u001b[31m\u001b[1mWARNING: This is a development server. Do not use it in a production deployment. Use a production WSGI server instead.\u001b[0m\n",
      " * Running on http://127.0.0.1:5000\n",
      "\u001b[33mPress CTRL+C to quit\u001b[0m\n",
      " * Restarting with watchdog (fsevents)\n",
      " * Debugger is active!\n",
      " * Debugger PIN: 103-676-990\n",
      "^C\n"
     ]
    }
   ],
   "source": [
    "!flask --debug run"
   ]
  },
  {
   "cell_type": "code",
   "execution_count": 1,
   "metadata": {},
   "outputs": [],
   "source": [
    "from jobspy import scrape_jobs"
   ]
  },
  {
   "cell_type": "code",
   "execution_count": 2,
   "metadata": {},
   "outputs": [
    {
     "name": "stderr",
     "output_type": "stream",
     "text": [
      "2025-03-22 14:51:52,895 - INFO - JobSpy:Indeed - search page: 1 / 1\n",
      "2025-03-22 14:51:53,372 - INFO - JobSpy:Indeed - finished scraping\n"
     ]
    },
    {
     "name": "stdout",
     "output_type": "stream",
     "text": [
      "Found 20 jobs\n",
      "                    id    site  \\\n",
      "0  in-b1a915fff1f14cf4  indeed   \n",
      "1  in-f36ebb9a3110eaa3  indeed   \n",
      "2  in-35b7e0b486ddbfeb  indeed   \n",
      "3  in-add64d603911b115  indeed   \n",
      "4  in-783d8e28e5eaaff7  indeed   \n",
      "\n",
      "                                             job_url  \\\n",
      "0  https://hk.indeed.com/viewjob?jk=b1a915fff1f14cf4   \n",
      "1  https://hk.indeed.com/viewjob?jk=f36ebb9a3110eaa3   \n",
      "2  https://hk.indeed.com/viewjob?jk=35b7e0b486ddbfeb   \n",
      "3  https://hk.indeed.com/viewjob?jk=add64d603911b115   \n",
      "4  https://hk.indeed.com/viewjob?jk=783d8e28e5eaaff7   \n",
      "\n",
      "                                      job_url_direct  \\\n",
      "0  https://milliontech.com/careers/#acceluid46510...   \n",
      "1  https://milliontech.com/careers/#acceluid46510...   \n",
      "2  https://zoolatech.com/vacancies/senior-java-en...   \n",
      "3  http://hk.indeed.com/job/java-engineer-add64d6...   \n",
      "4  https://careers.aliyun.com/en/off-campus/posit...   \n",
      "\n",
      "                                               title       company  \\\n",
      "0                              Software Engineer III  Million Tech   \n",
      "1  Associate Business Analyst (Software Developme...  Million Tech   \n",
      "2                               Senior Java Engineer     Zoolatech   \n",
      "3                                      Java Engineer          Deel   \n",
      "4  Alibaba Cloud-Network Product Solution Archite...       Alibaba   \n",
      "\n",
      "           location date_posted  job_type salary_source  ...  \\\n",
      "0           KOW, HK  2025-03-21       NaN           NaN  ...   \n",
      "1           KOW, HK  2025-03-21       NaN           NaN  ...   \n",
      "2  Central, HKI, HK  2025-03-21       NaN           NaN  ...   \n",
      "3        Remote, HK  2025-03-21  fulltime   direct_data  ...   \n",
      "4                HK  2025-03-21       NaN           NaN  ...   \n",
      "\n",
      "               emails                                        description  \\\n",
      "0  hr@milliontech.com  #### **Million Tech** **is specialized in prov...   \n",
      "1  hr@milliontech.com  #### **Million Tech** **is specialized in prov...   \n",
      "2                 NaN  Location:\\nOther, Central Europe\\nSeniority:\\n...   \n",
      "3                 NaN  (1\\) Design and Development: Develop and maint...   \n",
      "4                 NaN  **Basic Infomation**\\n\\n\\nDepartment:\\n\\n\\nAli...   \n",
      "\n",
      "   company_industry                             company_url  \\\n",
      "0              None  https://hk.indeed.com/cmp/Million-Tech   \n",
      "1              None  https://hk.indeed.com/cmp/Million-Tech   \n",
      "2              None     https://hk.indeed.com/cmp/Zoolatech   \n",
      "3              None        https://hk.indeed.com/cmp/Deel-7   \n",
      "4              None       https://hk.indeed.com/cmp/Alibaba   \n",
      "\n",
      "                                        company_logo  \\\n",
      "0                                                NaN   \n",
      "1                                                NaN   \n",
      "2  https://d2q79iu7y748jz.cloudfront.net/s/_squar...   \n",
      "3                                                NaN   \n",
      "4                                                NaN   \n",
      "\n",
      "         company_url_direct  \\\n",
      "0  https://milliontech.com/   \n",
      "1  https://milliontech.com/   \n",
      "2      http://zoolatech.com   \n",
      "3                       NaN   \n",
      "4        http://alibaba.com   \n",
      "\n",
      "                                   company_addresses company_num_employees  \\\n",
      "0                                                NaN                   NaN   \n",
      "1                                                NaN                   NaN   \n",
      "2  USA\\r\\n2100 Geng Road, Suite 210\\r\\nPalo Alto,...            201 to 500   \n",
      "3                                                NaN                   NaN   \n",
      "4                                                NaN                   NaN   \n",
      "\n",
      "       company_revenue                                company_description  \n",
      "0                  NaN                                                NaN  \n",
      "1                  NaN                                                NaN  \n",
      "2  $25M to $100M (USD)  We are an IT company that combines an extensiv...  \n",
      "3                  NaN                                                NaN  \n",
      "4                  NaN                                                NaN  \n",
      "\n",
      "[5 rows x 28 columns]\n"
     ]
    }
   ],
   "source": [
    "jobs = scrape_jobs(\n",
    "    site_name=[\"indeed\"],\n",
    "    search_term=\"software engineer\",\n",
    "    location=\"Hong Kong\",\n",
    "    results_wanted=20,\n",
    "    hours_old=72,\n",
    "    country_indeed='Hong Kong',\n",
    "    \n",
    "    # linkedin_fetch_description=True # gets more info such as description, direct job url (slower)\n",
    "    # proxies=[\"208.195.175.46:65095\", \"208.195.175.45:65095\", \"localhost\"],\n",
    ")\n",
    "print(f\"Found {len(jobs)} jobs\")\n",
    "print(jobs.head())"
   ]
  },
  {
   "cell_type": "code",
   "execution_count": 3,
   "metadata": {},
   "outputs": [
    {
     "name": "stdout",
     "output_type": "stream",
     "text": [
      "Filtered down to 1 jobs\n",
      "                    id    site  \\\n",
      "7  in-1c3811f2605e292a  indeed   \n",
      "\n",
      "                                             job_url  \\\n",
      "7  https://hk.indeed.com/viewjob?jk=1c3811f2605e292a   \n",
      "\n",
      "                                      job_url_direct  \\\n",
      "7  http://hk.indeed.com/job/it-front-end-develope...   \n",
      "\n",
      "                      title                   company           location  \\\n",
      "7  IT Front - End Developer  A.I. Pacific Consultants  Tsuen Wan, NT, HK   \n",
      "\n",
      "  date_posted  job_type salary_source  ... emails  \\\n",
      "7  2025-03-21  fulltime   direct_data  ...    NaN   \n",
      "\n",
      "                                         description  company_industry  \\\n",
      "7  **Requirements:**\\n\\n* Bachelor’s degree in Co...              None   \n",
      "\n",
      "                                         company_url  \\\n",
      "7  https://hk.indeed.com/cmp/A.i.-Pacific-Consult...   \n",
      "\n",
      "                                        company_logo company_url_direct  \\\n",
      "7  https://d2q79iu7y748jz.cloudfront.net/s/_squar...                NaN   \n",
      "\n",
      "  company_addresses company_num_employees company_revenue company_description  \n",
      "7               NaN                   NaN             NaN                 NaN  \n",
      "\n",
      "[1 rows x 28 columns]\n"
     ]
    }
   ],
   "source": [
    "include = ['SQL','Python']\n",
    "exclude = ['Chinese']\n",
    "\n",
    "filtered_jobs = jobs[\n",
    "    jobs['description'].apply(lambda x: all(word in x for word in include) and not any(word in x for word in exclude))\n",
    "]\n",
    "print(f\"Filtered down to {len(filtered_jobs)} jobs\")\n",
    "print(filtered_jobs.head())"
   ]
  },
  {
   "cell_type": "code",
   "execution_count": null,
   "metadata": {},
   "outputs": [],
   "source": []
  }
 ],
 "metadata": {
  "kernelspec": {
   "display_name": "base",
   "language": "python",
   "name": "python3"
  },
  "language_info": {
   "codemirror_mode": {
    "name": "ipython",
    "version": 3
   },
   "file_extension": ".py",
   "mimetype": "text/x-python",
   "name": "python",
   "nbconvert_exporter": "python",
   "pygments_lexer": "ipython3",
   "version": "3.12.2"
  }
 },
 "nbformat": 4,
 "nbformat_minor": 2
}
